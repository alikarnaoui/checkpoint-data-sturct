{
 "cells": [
  {
   "cell_type": "code",
   "execution_count": 1,
   "id": "c62a1cc0",
   "metadata": {},
   "outputs": [
    {
     "name": "stdout",
     "output_type": "stream",
     "text": [
      "36\n"
     ]
    }
   ],
   "source": [
    "l=[2,3,6, 4]\n",
    "f=\n",
    "\n",
    "print(f)"
   ]
  },
  {
   "cell_type": "code",
   "execution_count": 8,
   "id": "df918ba8",
   "metadata": {},
   "outputs": [
    {
     "data": {
      "text/plain": [
       "[(2, 1), (1, 2), (2, 3), (4, 4), (2, 5)]"
      ]
     },
     "execution_count": 8,
     "metadata": {},
     "output_type": "execute_result"
    }
   ],
   "source": [
    "l=[(2, 5), (1, 2),(4, 4), (2, 3), (2,1)]\n",
    "sorted(l, key=lambda x: x[1])"
   ]
  },
  {
   "cell_type": "code",
   "execution_count": 23,
   "id": "f32bc795",
   "metadata": {},
   "outputs": [
    {
     "name": "stdout",
     "output_type": "stream",
     "text": [
      "{'c': 300, 'd': 400, 'b': 400, 'a': 400}\n"
     ]
    }
   ],
   "source": [
    "d1 = {\"a\": 100, \"b\": 200, \"c\" :300}\n",
    "\n",
    "d2 = {\"a\": 300, \"b\": 200, \"d\":400}\n",
    "\n",
    "n=set(d1.keys()).union(d2.keys())\n",
    "\n",
    "dt={}\n",
    "\n",
    "for k in n:\n",
    "    dt[k]=d2.get(k,0)+d1.get(k,0)\n",
    "print(dt)"
   ]
  },
  {
   "cell_type": "code",
   "execution_count": 22,
   "id": "24954426",
   "metadata": {},
   "outputs": [
    {
     "data": {
      "text/plain": [
       "{1: 1, 2: 4, 3: 9, 4: 16, 5: 25, 6: 36, 7: 49, 8: 64}"
      ]
     },
     "execution_count": 22,
     "metadata": {},
     "output_type": "execute_result"
    }
   ],
   "source": [
    "{i+1: (i+1)**2 for i in range(8)}"
   ]
  },
  {
   "cell_type": "code",
   "execution_count": 28,
   "id": "34f10e92",
   "metadata": {},
   "outputs": [
    {
     "data": {
      "text/plain": [
       "[('item3', 24.5), ('item2', 15.1), ('item1', 12.2)]"
      ]
     },
     "execution_count": 28,
     "metadata": {},
     "output_type": "execute_result"
    }
   ],
   "source": [
    "l= [('item1', 12.20), ('item2', 15.10), ('item3', 24.5)]\n",
    "\n",
    "sorted(l,reverse=True)"
   ]
  },
  {
   "cell_type": "code",
   "execution_count": null,
   "id": "82e2e014",
   "metadata": {},
   "outputs": [],
   "source": []
  }
 ],
 "metadata": {
  "kernelspec": {
   "display_name": "Python 3 (ipykernel)",
   "language": "python",
   "name": "python3"
  },
  "language_info": {
   "codemirror_mode": {
    "name": "ipython",
    "version": 3
   },
   "file_extension": ".py",
   "mimetype": "text/x-python",
   "name": "python",
   "nbconvert_exporter": "python",
   "pygments_lexer": "ipython3",
   "version": "3.9.12"
  }
 },
 "nbformat": 4,
 "nbformat_minor": 5
}
